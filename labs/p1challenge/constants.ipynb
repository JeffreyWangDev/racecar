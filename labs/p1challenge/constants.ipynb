{
 "cells": [
  {
   "cell_type": "code",
   "execution_count": null,
   "metadata": {},
   "outputs": [],
   "source": [
    "# Generic Constants:\n",
    "WIDTH = 640\n",
    "HEIGHT = 320\n",
    "DEFAULT_SAFE_SPEED = 0.15\n",
    "\n",
    "\n",
    "# HSV Constants:\n",
    "\n",
    "# region\n",
    "RED_CONE = ((170, 50, 50), (10, 255, 255))\n",
    "BLUE_CONE = ((80, 100, 100), (130, 255, 255))\n",
    "BLUE_LINE = ((90,70,70), (110,255,255))\n",
    "RED_LINE = ((170,100,100), (10,255,255))\n",
    "GREEN_LINE = ((40,50,50), (80,255,255))\n",
    "ORANGE_LINE = ((0,254,254), (1,255,255))\n",
    "YELLOW_LINE = ((10,50,50), (30,255,255))\n",
    "# endregion\n",
    "\n",
    "# Line Follow Constants:\n",
    "\n",
    "# region\n",
    "# LINE_FOLLOW_IMG_CROP = ((100,0), (240, 320))\n",
    "# LINE_STRAIGHT_IMG_CROP = ((120,120), (180,200))\n",
    "LINE_FOLLOW_IMG_CROP = ((350,0), (480, 640))\n",
    "LINE_STRAIGHT_IMG_CROP = ((280,250), (400,390))\n",
    "LINE_FOLLOWING_SPEED = 0.3\n",
    "LINE_STRAIGHT_SPEED = 0.6\n",
    "LINE_FOLLOW_kP = 4\n",
    "LINE_FOLLOW_kI = 0.00\n",
    "LINE_FOLLOW_kD = 0.00\n",
    "# endregion\n",
    "\n",
    "# Cone Slalom Constants:\n",
    "\n",
    "# region\n",
    "CS_SPEED = 0.35\n",
    "CS_IMG_CROP = ((150,0), (480, 640))\n",
    "CS_MIN_CONTOUR = 1000\n",
    "CS_BLUE_CONE_OFFSET = -500\n",
    "CS_RED_CONE_OFFSET = 200\n",
    "CS_STRAIGHT = 2.6\n",
    "CS_TURN = 1.95\n",
    "# endregion\n",
    "\n",
    "# Cone Park HSV\n",
    "\n",
    "# region\n",
    "BLUE = ((90,50,50), (110,255,255))\n",
    "RED = ((170,100,100), (10,255,255))\n",
    "GREEN = ((50,50,50), (80,255,255))\n",
    "ORANGE = ((0,254,254), (1,255,255))\n",
    "PURPLE = ((120, 50, 50), (160, 255, 255))\n",
    "YELLOW = ((50, 50, 50), (70, 255, 255))\n",
    "# endregion\n",
    "\n"
   ]
  }
 ],
 "metadata": {
  "kernelspec": {
   "display_name": "Python 3",
   "language": "python",
   "name": "python3"
  },
  "language_info": {
   "codemirror_mode": {
    "name": "ipython",
    "version": 3
   },
   "file_extension": ".py",
   "mimetype": "text/x-python",
   "name": "python",
   "nbconvert_exporter": "python",
   "pygments_lexer": "ipython3",
   "version": "3.6.9"
  }
 },
 "nbformat": 4,
 "nbformat_minor": 4
}
